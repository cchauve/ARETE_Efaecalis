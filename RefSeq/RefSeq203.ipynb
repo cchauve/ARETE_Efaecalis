{
 "cells": [
  {
   "cell_type": "markdown",
   "metadata": {},
   "source": [
    "# Plasmid RefSeq 203 database\n",
    "###  Cedric Chauve, July 2020\n",
    "\n",
    "In this notebook, we extract accessions ids for plasmids from the version 203 of RefSeq, with the aim to generate a new database for the HyAsP plasmid assembly tool."
   ]
  },
  {
   "cell_type": "code",
   "execution_count": 1,
   "metadata": {
    "jupyter": {
     "source_hidden": true
    }
   },
   "outputs": [],
   "source": [
    "from Bio import SeqIO\n",
    "import csv\n",
    "import matplotlib.pyplot as plt"
   ]
  },
  {
   "cell_type": "markdown",
   "metadata": {},
   "source": [
    "The GenBank (*.gbff*) files for RefSeq 203 were downloadad on July 27, 2020, from ftp://ftp.ncbi.nlm.nih.gov/refseq/release/plasmid/.\n",
    "The file *plasmid.RefSeq_203.genomic.txt* contains the accession, description and length of all RefSeq 203 plasmids."
   ]
  },
  {
   "cell_type": "markdown",
   "metadata": {},
   "source": [
    "The file *41467_2020_17278_MOESM8_ESM_filtered_accession.txt* provides all the accession ids of the plasmids (taken from RefSeq 84, November 2017) used in the paper \"Pathways for horizontal gene transfer in bacteria revealed by a global map of their plasmids\" (https://www.nature.com/articles/s41467-020-17278-2). The file *41467_2020_17278_MOESM8_ESM_filtered_accession.txt_blacklist* contains the entries that were filtered as being partial plasmids, chromosomal elements and PacBio internal control sequences."
   ]
  },
  {
   "cell_type": "code",
   "execution_count": 2,
   "metadata": {
    "jupyter": {
     "source_hidden": true
    }
   },
   "outputs": [],
   "source": [
    "# Files\n",
    "REFSEQ84_FILE_ALL   = '41467_2020_17278_MOESM8_ESM.csv'\n",
    "REFSEQ84_FILE_KEPT  = '41467_2020_17278_MOESM8_ESM_filtered_accession.txt'\n",
    "REFSEQ84_FILE_DISC  = '41467_2020_17278_MOESM8_ESM_filtered_accession.txt_blacklist'\n",
    "REFSEQ203_FILE_GB   = 'plasmid.RefSeq_203.genomic.gbff'\n",
    "REFSEQ203_FILE_ALL  = 'plasmid.RefSeq_203.genomic.txt'\n",
    "REFSEQ203_FILE_KEPT = 'plasmid.RefSeq_203_accession.txt'\n",
    "REFSEQ203_FILE_DISC = 'plasmid.RefSeq_203_accession.txt_blacklist'\n",
    "\n",
    "REFSEQ84_FILE_ALL_TODO  = True\n",
    "REFSEQ203_FILE_ALL_TODO = False"
   ]
  },
  {
   "cell_type": "code",
   "execution_count": 3,
   "metadata": {
    "jupyter": {
     "source_hidden": true
    }
   },
   "outputs": [],
   "source": [
    "# Creating the 41467_2020_17278_MOESM8_ESM_filtered_accession.txt* files\n",
    "\n",
    "REFSEQ84_KEPT = open(REFSEQ84_FILE_KEPT,'w')\n",
    "REFSEQ84_DISC = open(REFSEQ84_FILE_DISC,'w')\n",
    "\n",
    "if REFSEQ84_FILE_ALL_TODO == True:\n",
    "    with open(REFSEQ84_FILE_ALL, newline='') as csvfile:\n",
    "        csv_data = csv.reader(csvfile, delimiter=',')\n",
    "        for entry in csv_data:\n",
    "            accession   = entry[0]\n",
    "            blacklisted = entry[20]\n",
    "            if blacklisted == 'No':\n",
    "                REFSEQ84_KEPT.write(accession+'\\n')\n",
    "            else:\n",
    "                REFSEQ84_DISC.write(accession+'\\n')\n",
    "REFSEQ84_KEPT.close()\n",
    "REFSEQ84_DISC.close()"
   ]
  },
  {
   "cell_type": "code",
   "execution_count": 4,
   "metadata": {
    "jupyter": {
     "source_hidden": true
    }
   },
   "outputs": [],
   "source": [
    "# Creating plasmid.RefSeq_203.genomic.txt\n",
    "\n",
    "if REFSEQ203_FILE_ALL_TODO == True:\n",
    "    IN_FILE  = REFSEQ203_FILE_GB\n",
    "    OUT_FILE = REFSEQ203_FILE_ALL\n",
    "    for gb_record in SeqIO.parse(open(IN_FILE,'r'), 'genbank') :\n",
    "        OUT_FILE.write('%s\\t%s\\t%d\\n' % (gb_record.id, gb_record.description, len(gb_record.seq)))"
   ]
  },
  {
   "cell_type": "code",
   "execution_count": 5,
   "metadata": {
    "jupyter": {
     "source_hidden": true
    }
   },
   "outputs": [],
   "source": [
    "def remove_version(accession):\n",
    "    return(accession.rstrip().split('.')[0])"
   ]
  },
  {
   "cell_type": "code",
   "execution_count": 6,
   "metadata": {
    "jupyter": {
     "source_hidden": true
    }
   },
   "outputs": [],
   "source": [
    "# Reading the RefSeq 84 accession ids\n",
    "REFSEQ84_DATA_ALL  = {}\n",
    "REFSEQ84_KEPT = open(REFSEQ84_FILE_KEPT,'r').readlines()\n",
    "for accession in REFSEQ84_KEPT:\n",
    "    REFSEQ84_DATA_ALL[remove_version(accession)] = {'version':accession.rstrip(),'description':None,'length':None,'blacklist':False}\n",
    "REFSEQ84_DISC = open(REFSEQ84_FILE_DISC,'r').readlines()\n",
    "for accession in REFSEQ84_DISC:\n",
    "    REFSEQ84_DATA_ALL[remove_version(accession)] = {'version':accession.rstrip(),'description':None,'length':None,'blacklist':True}\n",
    "\n",
    "# Reading the RefSeq 203 data\n",
    "REFSEQ203_DATA_ALL  = {}\n",
    "REFSEQ203_ALL = open(REFSEQ203_FILE_ALL,'r').readlines()\n",
    "for refseq203_data in REFSEQ203_ALL:\n",
    "    (accession,description,length) = refseq203_data.rstrip().split('\\t')\n",
    "    REFSEQ203_DATA_ALL[remove_version(accession)] = {'version':accession.rstrip(),'description':description,'length':int(length),'blacklist':None}\n",
    "\n",
    "# Join the two data sets\n",
    "REFSEQ_JOINT_DATA_ALL = {}\n",
    "for refseq203_accession in REFSEQ203_DATA_ALL.keys():\n",
    "    REFSEQ_JOINT_DATA_ALL[refseq203_accession] = {'version203':None,'version84':None,'description203':None,'length203':None,'blacklist203':None,'blacklist84':None}\n",
    "for refseq84_accession in REFSEQ84_DATA_ALL.keys():\n",
    "    REFSEQ_JOINT_DATA_ALL[refseq84_accession] = {'version203':None,'version84':None,'description203':None,'length203':None,'blacklist203':None,'blacklist84':None}\n",
    "for refseq203_accession in REFSEQ203_DATA_ALL.keys():\n",
    "    data = REFSEQ203_DATA_ALL[refseq203_accession]\n",
    "    REFSEQ_JOINT_DATA_ALL[refseq203_accession]['version203']     = data['version']\n",
    "    REFSEQ_JOINT_DATA_ALL[refseq203_accession]['description203'] = data['description']\n",
    "    REFSEQ_JOINT_DATA_ALL[refseq203_accession]['length203']      = data['length']\n",
    "for refseq84_accession in REFSEQ84_DATA_ALL.keys():\n",
    "    data = REFSEQ84_DATA_ALL[refseq84_accession]\n",
    "    REFSEQ_JOINT_DATA_ALL[refseq84_accession]['version84']   = data['version']\n",
    "    REFSEQ_JOINT_DATA_ALL[refseq84_accession]['blacklist84'] = data['blacklist']"
   ]
  },
  {
   "cell_type": "code",
   "execution_count": 7,
   "metadata": {
    "jupyter": {
     "source_hidden": true
    }
   },
   "outputs": [],
   "source": [
    "# Checking filtered entries in RefSeq 84\n",
    "REFSEQ203_FILE_DISC84 = 'plasmid.RefSeq_203_filtered_in_84.txt'\n",
    "REFSEQ203_DISC84      = open(REFSEQ203_FILE_DISC84,'w')\n",
    "for accession in REFSEQ_JOINT_DATA_ALL.keys():\n",
    "    if REFSEQ_JOINT_DATA_ALL[accession]['blacklist84'] == True:\n",
    "        REFSEQ203_DISC84.write(accession+'\\t'+str(REFSEQ_JOINT_DATA_ALL[accession]['version84'])+'\\t'+str(REFSEQ_JOINT_DATA_ALL[accession]['version203'])+'\\t'+str(REFSEQ_JOINT_DATA_ALL[accession]['description203'])+'\\n')"
   ]
  },
  {
   "cell_type": "markdown",
   "metadata": {},
   "source": [
    "It looks, from looking at the file *plasmid.RefSeq_203_filtered_in_84.txt* that very few of the filtered sequences in RefSeq 84 were characterized by the occurrences of 'plasmid' and 'complete sequence' and that most of them (1/25) were unnamed. So to filter the entries of RefSeq 203, we discard any entry that does not contains 'plasmid' and 'complete sequence' or contains 'unnamed'."
   ]
  },
  {
   "cell_type": "code",
   "execution_count": 8,
   "metadata": {
    "jupyter": {
     "source_hidden": true
    }
   },
   "outputs": [],
   "source": [
    "# Filtering RefSeq 203\n",
    "\n",
    "for accession in REFSEQ_JOINT_DATA_ALL.keys():\n",
    "    description203 = REFSEQ_JOINT_DATA_ALL[accession]['description203']\n",
    "    if (description203 != None) and (((not 'plasmid' in description203) and (not 'complete sequence' in description203)) or ('unnamed' in description203)):\n",
    "        REFSEQ_JOINT_DATA_ALL[accession]['blacklist203'] = True\n",
    "    else:\n",
    "        REFSEQ_JOINT_DATA_ALL[accession]['blacklist203'] = False"
   ]
  },
  {
   "cell_type": "code",
   "execution_count": 9,
   "metadata": {
    "jupyter": {
     "source_hidden": true
    }
   },
   "outputs": [
    {
     "name": "stdout",
     "output_type": "stream",
     "text": [
      "There are 210 entries in RefSeq 84 that are not in RefSeq 203.\n"
     ]
    }
   ],
   "source": [
    "# Which entries from RefSeq 84 are not in RefSeq 203\n",
    "REFSEQ_84_NOT_IN_203 = []\n",
    "for accession in REFSEQ_JOINT_DATA_ALL.keys():\n",
    "    if (REFSEQ_JOINT_DATA_ALL[accession]['version203'] == None):\n",
    "        REFSEQ_84_NOT_IN_203.append(accession)\n",
    "        \n",
    "print('There are '+str(len(REFSEQ_84_NOT_IN_203))+' entries in RefSeq 84 that are not in RefSeq 203.')\n",
    "\n",
    "REFSEQ84_NOT_IN_203_FILE = 'plasmid.RefSeq_84_not_in_203.txt'\n",
    "REFSEQ84_NOT_IN_203      = open(REFSEQ84_NOT_IN_203_FILE,'w')\n",
    "for accession in REFSEQ_84_NOT_IN_203:\n",
    "    REFSEQ84_NOT_IN_203.write(accession+'\\n')\n",
    "REFSEQ84_NOT_IN_203.close()"
   ]
  },
  {
   "cell_type": "markdown",
   "metadata": {},
   "source": [
    "Out of these 208 entries, 185 were removed by RefSeq staff. From now on we will then discard all these entries that despite being in the RefSeq 84 kept entries are not anymore in the RefSeq 203 plasmids data."
   ]
  },
  {
   "cell_type": "code",
   "execution_count": 10,
   "metadata": {
    "jupyter": {
     "source_hidden": true
    }
   },
   "outputs": [
    {
     "name": "stdout",
     "output_type": "stream",
     "text": [
      "In RefSeq 84, there were 9894 kept entries and 742 blacklisted entries.\n",
      "In RefSeq 203, there are 19917 kept entries and 6990 blacklisted entries.\n"
     ]
    }
   ],
   "source": [
    "# Which entries are filtered or not in RefSeq 203\n",
    "\n",
    "REFSEQ203_KEPT_NB,REFSEQ84_KEPT_NB = 0,0\n",
    "REFSEQ203_DISC_NB,REFSEQ84_DISC_NB = 0,0\n",
    "for accession in REFSEQ_JOINT_DATA_ALL.keys():\n",
    "    if REFSEQ_JOINT_DATA_ALL[accession]['version203'] != None:\n",
    "        if REFSEQ_JOINT_DATA_ALL[accession]['blacklist203'] == True:\n",
    "            REFSEQ203_DISC_NB += 1\n",
    "        else:\n",
    "            REFSEQ203_KEPT_NB +=1\n",
    "    if REFSEQ_JOINT_DATA_ALL[accession]['version84'] != None:\n",
    "        if REFSEQ_JOINT_DATA_ALL[accession]['blacklist84'] == True:\n",
    "            REFSEQ84_DISC_NB += 1\n",
    "        else:\n",
    "            REFSEQ84_KEPT_NB +=1\n",
    "        \n",
    "print('In RefSeq 84, there were '+str(REFSEQ84_KEPT_NB)+' kept entries and '+str(REFSEQ84_DISC_NB)+' blacklisted entries.')\n",
    "print('In RefSeq 203, there are '+str(REFSEQ203_KEPT_NB)+' kept entries and '+str(REFSEQ203_DISC_NB)+' blacklisted entries.')"
   ]
  },
  {
   "cell_type": "markdown",
   "metadata": {},
   "source": [
    "We now look at the length distribution of the kept plasmids in both releases of RefSeq."
   ]
  },
  {
   "cell_type": "code",
   "execution_count": 11,
   "metadata": {
    "jupyter": {
     "source_hidden": true
    }
   },
   "outputs": [],
   "source": [
    "# Length distribution of the kept entries\n",
    "REFSEQ84_KEPT_LG = [REFSEQ_JOINT_DATA_ALL[accession]['length203'] for accession in REFSEQ_JOINT_DATA_ALL.keys() \n",
    "                    if REFSEQ_JOINT_DATA_ALL[accession]['version203']!=None and REFSEQ_JOINT_DATA_ALL[accession]['version84']!=None and REFSEQ_JOINT_DATA_ALL[accession]['blacklist84']==False]\n",
    "REFSEQ203_KEPT_LG = [REFSEQ_JOINT_DATA_ALL[accession]['length203'] for accession in REFSEQ_JOINT_DATA_ALL.keys() \n",
    "                     if REFSEQ_JOINT_DATA_ALL[accession]['version203']!=None and REFSEQ_JOINT_DATA_ALL[accession]['blacklist203']==False]"
   ]
  },
  {
   "cell_type": "code",
   "execution_count": 12,
   "metadata": {
    "jupyter": {
     "source_hidden": true
    }
   },
   "outputs": [
    {
     "data": {
      "image/png": "[encoded data removed]",
      "text/plain": [
       "<Figure size 1440x720 with 4 Axes>"
      ]
     },
     "metadata": {
      "needs_background": "light"
     },
     "output_type": "display_data"
    }
   ],
   "source": [
    "plt.figure(figsize=(20,10))\n",
    "MIN_LG_AUX = 250000\n",
    "plt.subplot(221)\n",
    "plt.hist([l for l in REFSEQ84_KEPT_LG if l>=MIN_LG_AUX])\n",
    "plt.title('RefSeq 84 kept entries of length>=250kb')\n",
    "plt.subplot(222)\n",
    "plt.hist([l for l in REFSEQ203_KEPT_LG if l>=MIN_LG_AUX])\n",
    "plt.title('RefSeq 203 kept entries of length>=250kb')\n",
    "MAX_LG_AUX = 250000\n",
    "plt.subplot(223)\n",
    "plt.hist([l for l in REFSEQ84_KEPT_LG if l<=MAX_LG_AUX])\n",
    "plt.title('RefSeq 84 kept entries of length<=250kb')\n",
    "plt.subplot(224)\n",
    "plt.hist([l for l in REFSEQ203_KEPT_LG if l<=MAX_LG_AUX])\n",
    "plt.title('RefSeq 203 kept entries of length<=250kb')\n",
    "plt.show()"
   ]
  },
  {
   "cell_type": "markdown",
   "metadata": {},
   "source": [
    "I only see as suspicious the presence of a few very long plasmids, including one very long plasmid of length >6Mb (NZ_AP022593.1, Mycolicibacterium arabiense strain JCM 18538 plasmid pJCM18538, complete sequence), that we remove."
   ]
  },
  {
   "cell_type": "code",
   "execution_count": 13,
   "metadata": {
    "jupyter": {
     "source_hidden": true
    }
   },
   "outputs": [
    {
     "data": {
      "text/plain": [
       "[('NC_007974.2', 2580084),\n",
       " ('NZ_LR135270.1', 2697633),\n",
       " ('NZ_CP032695.1', 2584926),\n",
       " ('NZ_AP022593.1', 6017160),\n",
       " ('NZ_LT984814.1', 2848964),\n",
       " ('NZ_LT991977.1', 2827766),\n",
       " ('NZ_LT984807.1', 2796980),\n",
       " ('NZ_LT984802.1', 2595033),\n",
       " ('NZ_LT984804.1', 2795658),\n",
       " ('NZ_LN868939.1', 2657929)]"
      ]
     },
     "execution_count": 13,
     "metadata": {},
     "output_type": "execute_result"
    }
   ],
   "source": [
    "[(REFSEQ_JOINT_DATA_ALL[accession]['version203'],REFSEQ_JOINT_DATA_ALL[accession]['length203']) for accession in REFSEQ_JOINT_DATA_ALL.keys() \n",
    " if REFSEQ_JOINT_DATA_ALL[accession]['version203']!=None and \n",
    " REFSEQ_JOINT_DATA_ALL[accession]['blacklist203']==False and\n",
    " REFSEQ_JOINT_DATA_ALL[accession]['length203']>=2500000]"
   ]
  },
  {
   "cell_type": "code",
   "execution_count": 14,
   "metadata": {
    "jupyter": {
     "source_hidden": true
    }
   },
   "outputs": [],
   "source": [
    "REFSEQ_JOINT_DATA_ALL['NZ_AP022593']['blacklist203']=True"
   ]
  },
  {
   "cell_type": "code",
   "execution_count": 15,
   "metadata": {
    "jupyter": {
     "source_hidden": true
    }
   },
   "outputs": [],
   "source": [
    "# Generating the RefSeq 203 accession file\n",
    "\n",
    "REFSEQ203_KEPT = open(REFSEQ203_FILE_KEPT,'w')\n",
    "REFSEQ203_DISC = open(REFSEQ203_FILE_DISC,'w')\n",
    "\n",
    "for accession in REFSEQ_JOINT_DATA_ALL.keys():\n",
    "    if REFSEQ_JOINT_DATA_ALL[accession]['version203']!=None:\n",
    "        if REFSEQ_JOINT_DATA_ALL[accession]['blacklist203'] == False:\n",
    "            REFSEQ203_KEPT.write(REFSEQ_JOINT_DATA_ALL[accession]['version203']+'\\n')\n",
    "        else:\n",
    "            REFSEQ203_DISC.write(REFSEQ_JOINT_DATA_ALL[accession]['version203']+'\\n')  \n",
    "REFSEQ203_KEPT.close()\n",
    "REFSEQ203_DISC.close()"
   ]
  },
  {
   "cell_type": "code",
   "execution_count": 16,
   "metadata": {
    "jupyter": {
     "source_hidden": true
    }
   },
   "outputs": [],
   "source": [
    "# Last, we filter the kept RefSeq 203 entries to have only the ones from E. faecalis\n",
    "\n",
    "REFSEQ203_FAECALIS_FILE_KEPT = 'plasmid.RefSeq_203_Efaecalis_accession.txt'\n",
    "REFSEQ203_FAECALIS_FILE_DISC = 'plasmid.RefSeq_203_Efaecalis_accession.txt_blacklist'\n",
    "\n",
    "REFSEQ203_FAECALIS_KEPT = open(REFSEQ203_FAECALIS_FILE_KEPT,'w')\n",
    "REFSEQ203_FAECALIS_DISC = open(REFSEQ203_FAECALIS_FILE_DISC,'w')\n",
    "\n",
    "for accession in REFSEQ_JOINT_DATA_ALL.keys():\n",
    "    if REFSEQ_JOINT_DATA_ALL[accession]['version203']!=None and 'faecalis' in REFSEQ_JOINT_DATA_ALL[accession]['description203']:\n",
    "        if REFSEQ_JOINT_DATA_ALL[accession]['blacklist203'] == False:\n",
    "            REFSEQ203_FAECALIS_KEPT.write(REFSEQ_JOINT_DATA_ALL[accession]['version203']+'\\n')\n",
    "        else:\n",
    "            REFSEQ203_FAECALIS_DISC.write(REFSEQ_JOINT_DATA_ALL[accession]['version203']+'\\n')  \n",
    "REFSEQ203_FAECALIS_KEPT.close()\n",
    "REFSEQ203_FAECALIS_DISC.close()"
   ]
  },
  {
   "cell_type": "code",
   "execution_count": null,
   "metadata": {
    "jupyter": {
     "source_hidden": true
    }
   },
   "outputs": [],
   "source": []
  }
 ],
 "metadata": {
  "kernelspec": {
   "display_name": "Python 3",
   "language": "python",
   "name": "python3"
  },
  "language_info": {
   "codemirror_mode": {
    "name": "ipython",
    "version": 3
   },
   "file_extension": ".py",
   "mimetype": "text/x-python",
   "name": "python",
   "nbconvert_exporter": "python",
   "pygments_lexer": "ipython3",
   "version": "3.7.3"
  }
 },
 "nbformat": 4,
 "nbformat_minor": 4
}
